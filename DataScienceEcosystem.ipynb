{
 "cells": [
  {
   "cell_type": "markdown",
   "id": "26fd4238-0904-47d6-8e43-fe7b98259803",
   "metadata": {},
   "source": [
    "# Data science tools and ecosystem"
   ]
  },
  {
   "cell_type": "markdown",
   "id": "74893ae6-d96f-4b4d-83de-149044cdd3bf",
   "metadata": {},
   "source": [
    "In this notebook, Data Science Tools and Ecosystem are summarized."
   ]
  },
  {
   "cell_type": "markdown",
   "id": "0ee6c3cd-79c7-41e8-9945-70799feb9183",
   "metadata": {},
   "source": [
    "**Objectives:**\n",
    "* List popular languages for data scientists\n",
    "* List some of libraries for data scientist\n",
    "* Evaluating arithmatic expressions\n",
    "* Creating table\n",
    "\n"
   ]
  },
  {
   "cell_type": "markdown",
   "id": "229a7904-a554-4be9-a1d6-315f3a8b0ade",
   "metadata": {},
   "source": [
    "Some of the popular languages that Data Scientists use are:\n",
    "1. Python\n",
    "2. R\n",
    "3. Javascript\n",
    "4. Scala"
   ]
  },
  {
   "cell_type": "markdown",
   "id": "04a6f08f-358f-4705-9b02-c2dd62e8de40",
   "metadata": {},
   "source": [
    "Some of the commonly used libraries used by Data Scientists include:\n",
    "1. Pandas\n",
    "2. Numpy\n",
    "3. Scikit learn\n",
    "4. Matplotlib\n",
    "5. Plotly\n",
    "6. caret"
   ]
  },
  {
   "cell_type": "markdown",
   "id": "a5b0a7e7-dac3-4ec4-9b5c-1e3bf5b6a89e",
   "metadata": {},
   "source": [
    "|Data Science Tools|\n",
    "|------------------|\n",
    "| Jupyter|\n",
    "|R studio|\n",
    "| Anaconda|\n",
    "|Spyder|"
   ]
  },
  {
   "cell_type": "markdown",
   "id": "a28c8520-1293-4960-8faa-a03d992b5f06",
   "metadata": {},
   "source": [
    "### Below are a few examples of evaluating arithmetic expressions in Python."
   ]
  },
  {
   "cell_type": "code",
   "execution_count": 8,
   "id": "968c988e-fd60-430c-a40f-24d67bd8c70f",
   "metadata": {},
   "outputs": [
    {
     "data": {
      "text/plain": [
       "17"
      ]
     },
     "execution_count": 8,
     "metadata": {},
     "output_type": "execute_result"
    }
   ],
   "source": [
    "#This a simple arithmetic expression to mutiply then add integers\n",
    "(3*4)+5"
   ]
  },
  {
   "cell_type": "code",
   "execution_count": 12,
   "id": "852c0595-fdbc-4def-be7c-058e7d09aef0",
   "metadata": {},
   "outputs": [
    {
     "data": {
      "text/plain": [
       "3.3333333333333335"
      ]
     },
     "execution_count": 12,
     "metadata": {},
     "output_type": "execute_result"
    }
   ],
   "source": [
    "#This will convert 200 minutes to hours by diving by 60\n",
    "(200/60) "
   ]
  },
  {
   "cell_type": "markdown",
   "id": "919b8056-e3ab-46a9-9a99-d53d94560dde",
   "metadata": {},
   "source": [
    "## Author\n",
    "Mandar"
   ]
  },
  {
   "cell_type": "code",
   "execution_count": null,
   "id": "b39dd12c-7bd6-4ffb-9eb3-76eaeb15308f",
   "metadata": {},
   "outputs": [],
   "source": []
  },
  {
   "cell_type": "code",
   "execution_count": null,
   "id": "c14567ec-7e0b-4f8e-a108-4a0805bc1602",
   "metadata": {},
   "outputs": [],
   "source": []
  }
 ],
 "metadata": {
  "kernelspec": {
   "display_name": "Python 3 (ipykernel)",
   "language": "python",
   "name": "python3"
  },
  "language_info": {
   "codemirror_mode": {
    "name": "ipython",
    "version": 3
   },
   "file_extension": ".py",
   "mimetype": "text/x-python",
   "name": "python",
   "nbconvert_exporter": "python",
   "pygments_lexer": "ipython3",
   "version": "3.11.5"
  }
 },
 "nbformat": 4,
 "nbformat_minor": 5
}
